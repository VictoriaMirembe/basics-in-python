{
 "cells": [
  {
   "cell_type": "code",
   "execution_count": null,
   "id": "c929241e",
   "metadata": {},
   "outputs": [
    {
     "name": "stdout",
     "output_type": "stream",
     "text": [
      "🚀 New Jupyter Project Started!\n",
      "Python is working correctly!\n"
     ]
    }
   ],
   "source": [
    "print(\"New Jupyter Project Started!\")\n",
    "print(\"Python is working correctly!\")"
   ]
  },
  {
   "cell_type": "markdown",
   "id": "6456d3fc",
   "metadata": {},
   "source": [
    "<h1>This is my Second Work</h1>\n",
    "<p>QSN. Write a Python program that takes your full name as a string and prints it in Upper case</p>"
   ]
  },
  {
   "cell_type": "code",
   "execution_count": 2,
   "id": "76a45f5f",
   "metadata": {},
   "outputs": [
    {
     "name": "stdout",
     "output_type": "stream",
     "text": [
      "Your name in uppercase: SSEKAJJA VICTORIA MIREMBE  \n"
     ]
    }
   ],
   "source": [
    "My_name = input(\"Please enter you full names\")\n",
    "# Here I'm getting names from the user\n",
    "# This code checks if the input is empty\n",
    "if My_name.strip():  \n",
    "    # strip() removes extra spaces\n",
    "    upper_case_name = My_name.upper()\n",
    "    print(\"Your name in uppercase:\", upper_case_name)\n",
    "else:\n",
    "    print(\"Please enter a valid name!\")"
   ]
  },
  {
   "cell_type": "markdown",
   "id": "d4136e81",
   "metadata": {},
   "source": [
    "<p>QSN. Create a list of 5 different fruits.</p>\n",
    "<p>Print the first and last fruit using indexing</p>"
   ]
  },
  {
   "cell_type": "code",
   "execution_count": 3,
   "id": "c3a55746",
   "metadata": {},
   "outputs": [
    {
     "name": "stdout",
     "output_type": "stream",
     "text": [
      "First fruit: Grape\n",
      "Last fruit: pineapple\n"
     ]
    }
   ],
   "source": [
    "# I,m Creating a list of 5 different fruits\n",
    "fruits = [\"Grape\", \"Strawberry\", \"guava\", \"Apple\", \"pineapple\"]\n",
    "\n",
    "# Print the first fruit using index 0\n",
    "print(\"First fruit:\", fruits[0])\n",
    "\n",
    "# Print the last fruit using index -1\n",
    "# -1 basically asks for the last item in the list\n",
    "print(\"Last fruit:\", fruits[-1])"
   ]
  },
  {
   "cell_type": "markdown",
   "id": "7608e98e",
   "metadata": {},
   "source": [
    "<p>QSN. Create a dictionary called student with keys: \"name\", \"age\", and \"course\" Print the students names</p>"
   ]
  },
  {
   "cell_type": "code",
   "execution_count": 4,
   "id": "a63e4200",
   "metadata": {},
   "outputs": [
    {
     "name": "stdout",
     "output_type": "stream",
     "text": [
      "Student name: Victoria Mirembe\n"
     ]
    }
   ],
   "source": [
    "# Create a dictionary called student\n",
    "student = {\n",
    "    \"name\": \"Victoria Mirembe\",\n",
    "    \"age\": 20,\n",
    "    \"course\": \"Data Science Management and analysis\"\n",
    "}\n",
    "\n",
    "# Print the student's name\n",
    "print(\"Student name:\", student[\"name\"])"
   ]
  },
  {
   "cell_type": "markdown",
   "id": "6e297c08",
   "metadata": {},
   "source": [
    "<p>QSN. Given the string: text = \"DataScience\"<br><br/>\n",
    "print the last three characters using indexing</p>"
   ]
  },
  {
   "cell_type": "code",
   "execution_count": 5,
   "id": "de3a30c7",
   "metadata": {},
   "outputs": [
    {
     "name": "stdout",
     "output_type": "stream",
     "text": [
      "The last three characters: nce\n"
     ]
    }
   ],
   "source": [
    "text = \"DataScience\"\n",
    "\n",
    "# Print the last three characters using negative indexing\n",
    "print(\"The last three characters:\", text[-3:])"
   ]
  },
  {
   "cell_type": "markdown",
   "id": "2a7256de",
   "metadata": {},
   "source": [
    "<p>QSN. Write a Python program that: stores a sentence \"python is fun\" in a variable</p>"
   ]
  },
  {
   "cell_type": "code",
   "execution_count": 6,
   "id": "60400bbd",
   "metadata": {},
   "outputs": [
    {
     "name": "stdout",
     "output_type": "stream",
     "text": [
      "python is fun\n"
     ]
    }
   ],
   "source": [
    "# Storing the sentence in a variable\n",
    "sentence = \"python is fun\"\n",
    "\n",
    "# Print the sentence\n",
    "print(sentence)"
   ]
  },
  {
   "cell_type": "code",
   "execution_count": null,
   "id": "5c145096",
   "metadata": {},
   "outputs": [],
   "source": [
    "print(\"I am done\")"
   ]
  }
 ],
 "metadata": {
  "kernelspec": {
   "display_name": "Python 3",
   "language": "python",
   "name": "python3"
  },
  "language_info": {
   "codemirror_mode": {
    "name": "ipython",
    "version": 3
   },
   "file_extension": ".py",
   "mimetype": "text/x-python",
   "name": "python",
   "nbconvert_exporter": "python",
   "pygments_lexer": "ipython3",
   "version": "3.12.4"
  }
 },
 "nbformat": 4,
 "nbformat_minor": 5
}
